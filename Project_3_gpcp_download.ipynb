{
  "nbformat": 4,
  "nbformat_minor": 0,
  "metadata": {
    "colab": {
      "name": "Project-3-gpcp-download.ipynb",
      "provenance": [],
      "collapsed_sections": [],
      "authorship_tag": "ABX9TyOMQ4GOSGq63IgiWag2LRkj",
      "include_colab_link": true
    },
    "kernelspec": {
      "name": "python3",
      "display_name": "Python 3"
    },
    "accelerator": "GPU"
  },
  "cells": [
    {
      "cell_type": "markdown",
      "metadata": {
        "id": "view-in-github",
        "colab_type": "text"
      },
      "source": [
        "<a href=\"https://colab.research.google.com/github/dfu2020/ATMS-597-SP-2020-Project-3-Group-H/blob/master/Project_3_gpcp_download.ipynb\" target=\"_parent\"><img src=\"https://colab.research.google.com/assets/colab-badge.svg\" alt=\"Open In Colab\"/></a>"
      ]
    },
    {
      "cell_type": "code",
      "metadata": {
        "id": "7OldubzpHdCv",
        "colab_type": "code",
        "outputId": "6e858d23-0a28-4eec-e672-2f5f257a1acd",
        "colab": {
          "base_uri": "https://localhost:8080/",
          "height": 34
        }
      },
      "source": [
        "%pylab inline\n",
        "import xarray as xr"
      ],
      "execution_count": 2,
      "outputs": [
        {
          "output_type": "stream",
          "text": [
            "Populating the interactive namespace from numpy and matplotlib\n"
          ],
          "name": "stdout"
        }
      ]
    },
    {
      "cell_type": "code",
      "metadata": {
        "id": "0v-kVNhhYacE",
        "colab_type": "code",
        "outputId": "7fdc9805-96ec-4048-8a70-713d2015a33d",
        "colab": {
          "base_uri": "https://localhost:8080/",
          "height": 329
        }
      },
      "source": [
        "from google.colab import drive\n",
        "drive.mount('/content/drive')"
      ],
      "execution_count": 3,
      "outputs": [
        {
          "output_type": "stream",
          "text": [
            "Go to this URL in a browser: https://accounts.google.com/o/oauth2/auth?client_id=947318989803-6bn6qk8qdgf4n4g3pfee6491hc0brc4i.apps.googleusercontent.com&redirect_uri=urn%3aietf%3awg%3aoauth%3a2.0%3aoob&response_type=code&scope=email%20https%3a%2f%2fwww.googleapis.com%2fauth%2fdocs.test%20https%3a%2f%2fwww.googleapis.com%2fauth%2fdrive%20https%3a%2f%2fwww.googleapis.com%2fauth%2fdrive.photos.readonly%20https%3a%2f%2fwww.googleapis.com%2fauth%2fpeopleapi.readonly\n",
            "\n",
            "Enter your authorization code:\n",
            "··········\n",
            "Mounted at /content/drive\n"
          ],
          "name": "stdout"
        }
      ]
    },
    {
      "cell_type": "code",
      "metadata": {
        "id": "qf2HEIRfYd9q",
        "colab_type": "code",
        "outputId": "83b32e63-4377-4dd0-c5fa-0ddb3821ef4f",
        "colab": {
          "base_uri": "https://localhost:8080/",
          "height": 34
        }
      },
      "source": [
        "%cd /content/drive/My Drive/Project_3_gpcp/"
      ],
      "execution_count": 4,
      "outputs": [
        {
          "output_type": "stream",
          "text": [
            "/content/drive/My Drive/Project_3_gpcp\n"
          ],
          "name": "stdout"
        }
      ]
    },
    {
      "cell_type": "code",
      "metadata": {
        "id": "zMa9qFGxYmIf",
        "colab_type": "code",
        "outputId": "5d722074-78d4-4b1a-fc54-10c33c22d48e",
        "colab": {
          "base_uri": "https://localhost:8080/",
          "height": 790
        }
      },
      "source": [
        "!pip install netcdf4\n",
        "!pip install pydap\n",
        "!pip install wget"
      ],
      "execution_count": 5,
      "outputs": [
        {
          "output_type": "stream",
          "text": [
            "Collecting netcdf4\n",
            "\u001b[?25l  Downloading https://files.pythonhosted.org/packages/35/4f/d49fe0c65dea4d2ebfdc602d3e3d2a45a172255c151f4497c43f6d94a5f6/netCDF4-1.5.3-cp36-cp36m-manylinux1_x86_64.whl (4.1MB)\n",
            "\u001b[K     |████████████████████████████████| 4.1MB 49.7MB/s \n",
            "\u001b[?25hRequirement already satisfied: numpy>=1.7 in /usr/local/lib/python3.6/dist-packages (from netcdf4) (1.17.5)\n",
            "Collecting cftime\n",
            "\u001b[?25l  Downloading https://files.pythonhosted.org/packages/53/35/e2fc52247871c51590d6660e684fdc619a93a29f40e3b64894bd4f8c9041/cftime-1.1.0-cp36-cp36m-manylinux1_x86_64.whl (316kB)\n",
            "\u001b[K     |████████████████████████████████| 317kB 56.1MB/s \n",
            "\u001b[?25hInstalling collected packages: cftime, netcdf4\n",
            "Successfully installed cftime-1.1.0 netcdf4-1.5.3\n",
            "Collecting pydap\n",
            "\u001b[?25l  Downloading https://files.pythonhosted.org/packages/9e/ad/01367f79b24015e223dd7679e4c9b16a6792fe5a9772e45e5f81b2c4a021/Pydap-3.2.2-py3-none-any.whl (2.3MB)\n",
            "\u001b[K     |████████████████████████████████| 2.3MB 17.1MB/s \n",
            "\u001b[?25hRequirement already satisfied: docopt in /usr/local/lib/python3.6/dist-packages (from pydap) (0.6.2)\n",
            "Requirement already satisfied: numpy in /usr/local/lib/python3.6/dist-packages (from pydap) (1.17.5)\n",
            "Requirement already satisfied: beautifulsoup4 in /usr/local/lib/python3.6/dist-packages (from pydap) (4.6.3)\n",
            "Collecting Webob\n",
            "\u001b[?25l  Downloading https://files.pythonhosted.org/packages/18/3c/de37900faff3c95c7d55dd557aa71bd77477950048983dcd4b53f96fde40/WebOb-1.8.6-py2.py3-none-any.whl (114kB)\n",
            "\u001b[K     |████████████████████████████████| 122kB 59.6MB/s \n",
            "\u001b[?25hRequirement already satisfied: six>=1.4.0 in /usr/local/lib/python3.6/dist-packages (from pydap) (1.12.0)\n",
            "Requirement already satisfied: Jinja2 in /usr/local/lib/python3.6/dist-packages (from pydap) (2.11.1)\n",
            "Requirement already satisfied: MarkupSafe>=0.23 in /usr/local/lib/python3.6/dist-packages (from Jinja2->pydap) (1.1.1)\n",
            "Installing collected packages: Webob, pydap\n",
            "Successfully installed Webob-1.8.6 pydap-3.2.2\n",
            "Collecting wget\n",
            "  Downloading https://files.pythonhosted.org/packages/47/6a/62e288da7bcda82b935ff0c6cfe542970f04e29c756b0e147251b2fb251f/wget-3.2.zip\n",
            "Building wheels for collected packages: wget\n",
            "  Building wheel for wget (setup.py) ... \u001b[?25l\u001b[?25hdone\n",
            "  Created wheel for wget: filename=wget-3.2-cp36-none-any.whl size=9682 sha256=c6f0a545bcad0b17b3f42e96d10eaaf275572ee9a89e9f1c0698049becf9b128\n",
            "  Stored in directory: /root/.cache/pip/wheels/40/15/30/7d8f7cea2902b4db79e3fea550d7d7b85ecb27ef992b618f3f\n",
            "Successfully built wget\n",
            "Installing collected packages: wget\n",
            "Successfully installed wget-3.2\n"
          ],
          "name": "stdout"
        }
      ]
    },
    {
      "cell_type": "code",
      "metadata": {
        "id": "Io04hR2uNwEn",
        "colab_type": "code",
        "colab": {}
      },
      "source": [
        "from datetime import datetime\n",
        "import numpy as np\n",
        "import pandas as pd\n",
        "from bs4 import BeautifulSoup\n",
        "import requests\n",
        "import matplotlib.pyplot as plt\n",
        "import re\n",
        "import wget"
      ],
      "execution_count": 0,
      "outputs": []
    },
    {
      "cell_type": "code",
      "metadata": {
        "id": "JQS0X5odnevO",
        "colab_type": "code",
        "outputId": "85baf7df-ff5c-4bd1-e4ed-e40b3888062d",
        "colab": {
          "base_uri": "https://localhost:8080/",
          "height": 454
        }
      },
      "source": [
        "years = np.arange(1996,2020)\n",
        "url_home = 'https://www.ncei.noaa.gov/data/global-precipitation-climatology-project-gpcp-daily/access/'\n",
        "# Get the file names from the website by looping through each year\n",
        "gpcp_file_name = []\n",
        "datasets = []\n",
        "for year in years:\n",
        "    gpcp_url=url_home +str(year)+'/'\n",
        "    response = requests.get(gpcp_url)\n",
        "\n",
        "    soup = BeautifulSoup(response.text, 'html.parser')\n",
        "    gpcp_file_list = soup.find_all('a', href=re.compile(\"\\.nc$\"))\n",
        "    #print(len(gpcp_file_list))\n",
        "    print(year)\n",
        "    for s in gpcp_file_list:\n",
        "        filename=s.contents[0]\n",
        "        file_url = (gpcp_url+filename)\n",
        "        #print(file_url)\n",
        "        wget.download(file_url)\n",
        "        nc = xr.open_dataset(filename)\n",
        "        precip = xr.DataArray(nc['precip'],dims=['time','latitude','longitude']) # load the precip data into a data array \n",
        "        datasets.append(precip) #append the datasets list with the precip data array\n",
        "        !rm \"{filename}\"\n",
        "combined = xr.concat(datasets, dim='time')"
      ],
      "execution_count": 7,
      "outputs": [
        {
          "output_type": "stream",
          "text": [
            "1996\n",
            "1997\n",
            "1998\n",
            "1999\n",
            "2000\n",
            "2001\n",
            "2002\n",
            "2003\n",
            "2004\n",
            "2005\n",
            "2006\n",
            "2007\n",
            "2008\n",
            "2009\n",
            "2010\n",
            "2011\n",
            "2012\n",
            "2013\n",
            "2014\n",
            "2015\n",
            "2016\n",
            "2017\n",
            "2018\n",
            "2019\n"
          ],
          "name": "stdout"
        }
      ]
    },
    {
      "cell_type": "code",
      "metadata": {
        "id": "_7XYcWNB3INe",
        "colab_type": "code",
        "colab": {}
      },
      "source": [
        "combined_dataset = combined.to_dataset(name='precip')"
      ],
      "execution_count": 0,
      "outputs": []
    },
    {
      "cell_type": "code",
      "metadata": {
        "id": "EAglphN94Vlj",
        "colab_type": "code",
        "colab": {}
      },
      "source": [
        "mdata=combined_dataset.sel(time=~combined_dataset.indexes['time'].duplicated())\n",
        "mdata_season=mdata.sel(time=(mdata['time.season'] == 'DJF'))"
      ],
      "execution_count": 0,
      "outputs": []
    },
    {
      "cell_type": "code",
      "metadata": {
        "id": "LsWliDkU-j0O",
        "colab_type": "code",
        "colab": {}
      },
      "source": [
        "mdata.to_netcdf('combined_1996_2019_precip.nc')"
      ],
      "execution_count": 0,
      "outputs": []
    },
    {
      "cell_type": "code",
      "metadata": {
        "id": "eQNXaRnWCUaY",
        "colab_type": "code",
        "colab": {}
      },
      "source": [
        "#md = xr.open_dataset('combined_1996_2019_precip.nc')"
      ],
      "execution_count": 0,
      "outputs": []
    },
    {
      "cell_type": "code",
      "metadata": {
        "id": "LMTZKN4N550S",
        "colab_type": "code",
        "colab": {}
      },
      "source": [
        "mdata_melbourne = mdata_season.sel(longitude=slice(144.9631-1,144.9631+1),latitude=slice(-37.8136-1,-37.8136+1))\n",
        "#melbourne_new = np.where(mdata_melbourne>=0)\n",
        "#melbourne_precip=mdata_season.sel(longitude=145.,latitude=-38., method='nearest')"
      ],
      "execution_count": 0,
      "outputs": []
    },
    {
      "cell_type": "code",
      "metadata": {
        "id": "uujIT7YU17TW",
        "colab_type": "code",
        "colab": {}
      },
      "source": [
        "cond=np.where((mdata_melbourne.precip.values>=0.)&(mdata_melbourne.precip.values<=100.))"
      ],
      "execution_count": 0,
      "outputs": []
    },
    {
      "cell_type": "code",
      "metadata": {
        "id": "tN2sN6h02Mlq",
        "colab_type": "code",
        "colab": {
          "base_uri": "https://localhost:8080/",
          "height": 34
        },
        "outputId": "e01f439c-e3e0-4e94-d0c8-2eded7bf2119"
      },
      "source": [
        "melbourne_results=mdata_melbourne.precip.values[cond]\n",
        "np.percentile(melbourne_results,95)"
      ],
      "execution_count": 54,
      "outputs": [
        {
          "output_type": "execute_result",
          "data": {
            "text/plain": [
              "9.186779069900508"
            ]
          },
          "metadata": {
            "tags": []
          },
          "execution_count": 54
        }
      ]
    },
    {
      "cell_type": "code",
      "metadata": {
        "id": "Eun8fMTu1aaJ",
        "colab_type": "code",
        "colab": {
          "base_uri": "https://localhost:8080/",
          "height": 513
        },
        "outputId": "5b5732c7-1092-4841-e705-e2fe3bf1a01e"
      },
      "source": [
        "n = np.arange(1,len(melbourne_results)+1) / np.float(len(melbourne_results))\n",
        "Xs = np.sort(melbourne_results)\n",
        "fig, ax = plt.subplots(figsize=(12,8))\n",
        "ax.step(Xs,n) \n",
        "plt.axhline(0.95,c='b',ls='--',label='y=0.95')\n",
        "plt.axvline(np.percentile(melbourne_results,95),c='r',ls='--',label='$95^{th}$ Percentile')\n",
        "plt.xlabel('GPCP Daily Precip. (mm)')\n",
        "plt.ylabel('Cumulative Probability')\n",
        "plt.title('Cumulative Probability Distribution Function for DJF daily precip. in Melbourne, Australia from 1996-2019')\n",
        "plt.legend()\n",
        "plt.show()"
      ],
      "execution_count": 47,
      "outputs": [
        {
          "output_type": "display_data",
          "data": {
            "image/png": "[encoded data removed]",
            "text/plain": [
              "<Figure size 864x576 with 1 Axes>"
            ]
          },
          "metadata": {
            "tags": []
          }
        }
      ]
    },
    {
      "cell_type": "code",
      "metadata": {
        "id": "vVl5DUkxXSME",
        "colab_type": "code",
        "colab": {}
      },
      "source": [
        "melbourne_95 = mdata_melbourne.where(mdata_melbourne.precip >= np.percentile(melbourne_results,95),drop=True)"
      ],
      "execution_count": 0,
      "outputs": []
    },
    {
      "cell_type": "code",
      "metadata": {
        "id": "8oVy4jGcYA-X",
        "colab_type": "code",
        "colab": {}
      },
      "source": [
        "melbourne_95.to_netcdf('melbourne_95.nc',encoding={'precip': {'_FillValue': -9999.0}})"
      ],
      "execution_count": 0,
      "outputs": []
    }
  ]
}