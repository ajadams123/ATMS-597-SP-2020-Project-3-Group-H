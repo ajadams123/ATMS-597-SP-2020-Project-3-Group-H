{
  "nbformat": 4,
  "nbformat_minor": 0,
  "metadata": {
    "colab": {
      "name": "Copy of Project-3-Group-F.ipynb",
      "provenance": [],
      "collapsed_sections": [],
      "authorship_tag": "ABX9TyPMLsIdf5M9tl+7NjqKrifA",
      "include_colab_link": true
    },
    "kernelspec": {
      "name": "python3",
      "display_name": "Python 3"
    }
  },
  "cells": [
    {
      "cell_type": "markdown",
      "metadata": {
        "id": "view-in-github",
        "colab_type": "text"
      },
      "source": [
        "<a href=\"https://colab.research.google.com/github/dfu2020/ATMS-597-SP-2020-Project-3-Group-H/blob/master/Project_3_Group_F.ipynb\" target=\"_parent\"><img src=\"https://colab.research.google.com/assets/colab-badge.svg\" alt=\"Open In Colab\"/></a>"
      ]
    },
    {
      "cell_type": "markdown",
      "metadata": {
        "id": "KDcUmjXrvoWa",
        "colab_type": "text"
      },
      "source": [
        "Task: Create code using python xarray to organize and reduce climate data. The goal of this analysis will be to detect global atmospheric circulation patterns (or teleconnections) associated with extreme daily precipitation in a certain part of the globe. You will\n",
        "\n",
        "(1) Aggregate daily rainfall data from the Global Precipitaiton Climatology Project 1 degree daily precipitation data over the period 1996 - 2019 into a single file from daily files, available here: [https://www.ncei.noaa.gov/data/global-precipitation-climatology-project-gpcp-daily/access/].\n",
        "\n",
        "(2) Determine the 95% values of daily precipitation during a selected particular 3-month period (given in the table below by group) over the grid box closest to the city you are examining. Plot a cumulative distribution function of all values daily precipitation values and illustrate the 95% value of daily precipitation in millimeters.\n",
        "\n",
        "(3) Using output from the NCEP Reanalysis [https://journals.ametsoc.org/doi/pdf/10.1175/1520-0477(1996)077%3C0437%3ATNYRP%3E2.0.CO%3B2](Kalnay et al. 1996), compute the global mean fields and seasonal anomaly fields for days meeting and exceeding the threshold of precipitation calculated in the previous step (using the 1981-2010 as a base period for anomalies) of\n",
        "\n",
        "250 hPa wind vectors and wind speed,\n",
        "500 hPa winds and geopotential height,\n",
        "850 hPa temperature, specific humidity, and winds,\n",
        "skin temperature, and surface winds, and\n",
        "total atmospheric column water vapor.\n",
        "\n",
        "(4) Create maps showing the mean fields for the extreme precipitation day composites, long term mean composites for the selected months, and the anomaly fields for each variable. Use contours and vectors when appropriate.\n",
        "\n",
        "(5) Make Presentation before Friday (Feb. 28th)"
      ]
    },
    {
      "cell_type": "code",
      "metadata": {
        "id": "FG5Z1-Q-8BZF",
        "colab_type": "code",
        "outputId": "d30b43b1-136d-4d08-eafb-8aac38bc3e19",
        "colab": {
          "base_uri": "https://localhost:8080/",
          "height": 34
        }
      },
      "source": [
        "%pylab inline\n",
        "import xarray as xr"
      ],
      "execution_count": 1,
      "outputs": [
        {
          "output_type": "stream",
          "text": [
            "Populating the interactive namespace from numpy and matplotlib\n"
          ],
          "name": "stdout"
        }
      ]
    },
    {
      "cell_type": "code",
      "metadata": {
        "id": "7_ptLCT8rvt3",
        "colab_type": "code",
        "colab": {
          "base_uri": "https://localhost:8080/",
          "height": 74
        },
        "outputId": "1dcf8558-1670-4e6f-fc6a-76ce8a0b8df0"
      },
      "source": [
        "from google.colab import drive\n",
        "drive.mount('/content/drive')"
      ],
      "execution_count": 2,
      "outputs": [
        {
          "output_type": "stream",
          "text": [
            "Drive already mounted at /content/drive; to attempt to forcibly remount, call drive.mount(\"/content/drive\", force_remount=True).\n"
          ],
          "name": "stdout"
        }
      ]
    },
    {
      "cell_type": "code",
      "metadata": {
        "id": "j-IYjnPLsGaX",
        "colab_type": "code",
        "colab": {
          "base_uri": "https://localhost:8080/",
          "height": 34
        },
        "outputId": "9ea44180-a146-494b-9754-f27d7813a15c"
      },
      "source": [
        "%cd /content/drive/My Drive/Project_3/"
      ],
      "execution_count": 3,
      "outputs": [
        {
          "output_type": "stream",
          "text": [
            "/content/drive/My Drive/Project_3\n"
          ],
          "name": "stdout"
        }
      ]
    },
    {
      "cell_type": "code",
      "metadata": {
        "id": "6tXlnvXc8FW1",
        "colab_type": "code",
        "outputId": "b82c737e-4fa6-4234-9074-2d496e8c4189",
        "colab": {
          "base_uri": "https://localhost:8080/",
          "height": 393
        }
      },
      "source": [
        "!pip install netcdf4\n",
        "!pip install pydap\n",
        "!pip install wget"
      ],
      "execution_count": 4,
      "outputs": [
        {
          "output_type": "stream",
          "text": [
            "Requirement already satisfied: netcdf4 in /usr/local/lib/python3.6/dist-packages (1.5.3)\n",
            "Requirement already satisfied: numpy>=1.7 in /usr/local/lib/python3.6/dist-packages (from netcdf4) (1.17.5)\n",
            "Requirement already satisfied: cftime in /usr/local/lib/python3.6/dist-packages (from netcdf4) (1.1.0)\n",
            "Requirement already satisfied: pydap in /usr/local/lib/python3.6/dist-packages (3.2.2)\n",
            "Requirement already satisfied: six>=1.4.0 in /usr/local/lib/python3.6/dist-packages (from pydap) (1.12.0)\n",
            "Requirement already satisfied: beautifulsoup4 in /usr/local/lib/python3.6/dist-packages (from pydap) (4.6.3)\n",
            "Requirement already satisfied: numpy in /usr/local/lib/python3.6/dist-packages (from pydap) (1.17.5)\n",
            "Requirement already satisfied: Webob in /usr/local/lib/python3.6/dist-packages (from pydap) (1.8.6)\n",
            "Requirement already satisfied: Jinja2 in /usr/local/lib/python3.6/dist-packages (from pydap) (2.11.1)\n",
            "Requirement already satisfied: docopt in /usr/local/lib/python3.6/dist-packages (from pydap) (0.6.2)\n",
            "Requirement already satisfied: MarkupSafe>=0.23 in /usr/local/lib/python3.6/dist-packages (from Jinja2->pydap) (1.1.1)\n",
            "Requirement already satisfied: wget in /usr/local/lib/python3.6/dist-packages (3.2)\n"
          ],
          "name": "stdout"
        }
      ]
    },
    {
      "cell_type": "code",
      "metadata": {
        "id": "PtkZn9JEskG1",
        "colab_type": "code",
        "colab": {}
      },
      "source": [
        "import pandas as pd\n",
        "import numpy as np\n",
        "from datetime import datetime\n",
        "import time\n",
        "import netCDF4"
      ],
      "execution_count": 0,
      "outputs": []
    },
    {
      "cell_type": "code",
      "metadata": {
        "id": "ZoRoiSCc5yKm",
        "colab_type": "code",
        "colab": {}
      },
      "source": [
        "#!wget -i urls.txt -e robots=off --cut-dirs=3 --user-agent=Mozilla/5.0 --reject=\"index.html*\" --no-parent --recursive --relative --level=3 --no-directories "
      ],
      "execution_count": 0,
      "outputs": []
    },
    {
      "cell_type": "code",
      "metadata": {
        "id": "8llTmY-vnjIZ",
        "colab_type": "code",
        "colab": {}
      },
      "source": [
        "!wget -i -e robots=off --cut-dirs=3 --user-agent=Mozilla/5.0 --reject=\"index.html*\" --no-parent --recursive --relative --level=3 --no-directories 'https://www.ncei.noaa.gov/data/global-precipitation-climatology-project-gpcp-daily/access/'"
      ],
      "execution_count": 0,
      "outputs": []
    },
    {
      "cell_type": "code",
      "metadata": {
        "id": "aEpG18CS_Yrl",
        "colab_type": "code",
        "colab": {}
      },
      "source": [
        "#urls=''\n",
        "#f=open('urls.txt','w')\n",
        "#for x in range(1996, 2020):\n",
        "#    urls = 'https://www.ncei.noaa.gov/data/global-precipitation-climatology-project-gpcp-daily/access/%d/\\n' % (x)\n",
        "#    f.write(urls)\n",
        "#f.close\n"
      ],
      "execution_count": 0,
      "outputs": []
    },
    {
      "cell_type": "code",
      "metadata": {
        "id": "c1oQZt85tOcb",
        "colab_type": "code",
        "colab": {}
      },
      "source": [
        "#mdata=xr.open_mfdataset('combined_*.nc', concat_dim=\"time\", data_vars='minimal', coords='minimal', compat='override')\n",
        "mdata=xr.open_mfdataset('gpcp_v01r03_daily_d*.nc', concat_dim=\"time\", data_vars='minimal', coords='minimal', compat='override')"
      ],
      "execution_count": 0,
      "outputs": []
    },
    {
      "cell_type": "code",
      "metadata": {
        "id": "wlP6tugzrb4D",
        "colab_type": "code",
        "colab": {}
      },
      "source": [
        "mdata_new=mdata.sel(time=~mdata.indexes['time'].duplicated())"
      ],
      "execution_count": 0,
      "outputs": []
    },
    {
      "cell_type": "code",
      "metadata": {
        "id": "Ok5QmELsyE8z",
        "colab_type": "code",
        "colab": {}
      },
      "source": [
        "!rm -r gpcp_v01r03_daily_d*.nc"
      ],
      "execution_count": 0,
      "outputs": []
    },
    {
      "cell_type": "code",
      "metadata": {
        "id": "MrbdiI0TPt7l",
        "colab_type": "code",
        "colab": {}
      },
      "source": [
        "#rm -r gpcp_v01r03_daily_d2014*.nc"
      ],
      "execution_count": 0,
      "outputs": []
    },
    {
      "cell_type": "code",
      "metadata": {
        "id": "Uapmu9DpYEfB",
        "colab_type": "code",
        "colab": {}
      },
      "source": [
        "mdata_new.to_netcdf('combined_1996_2019_new.nc',encoding={'precip': {'_FillValue': -9999.0}})"
      ],
      "execution_count": 0,
      "outputs": []
    },
    {
      "cell_type": "code",
      "metadata": {
        "id": "IBbKWYxT4DtK",
        "colab_type": "code",
        "colab": {
          "base_uri": "https://localhost:8080/",
          "height": 1000
        },
        "outputId": "c9d79fb9-d037-4466-9cb5-8148f7f2d7a3"
      },
      "source": [
        "mdata_season=mdata_new.sel(time=(mdata_new['time.season'] == 'DJF'))\n",
        "mdata_season"
      ],
      "execution_count": 15,
      "outputs": [
        {
          "output_type": "execute_result",
          "data": {
            "text/html": [
              "<pre>&lt;xarray.Dataset&gt;\n",
              "Dimensions:      (latitude: 180, longitude: 360, nv: 2, time: 2075)\n",
              "Coordinates:\n",
              "  * longitude    (longitude) float32 0.0 1.0 2.0 3.0 ... 356.0 357.0 358.0 359.0\n",
              "  * latitude     (latitude) float32 -90.0 -89.0 -88.0 -87.0 ... 87.0 88.0 89.0\n",
              "  * time         (time) datetime64[ns] 1996-12-01 1996-12-02 ... 2019-02-28\n",
              "Dimensions without coordinates: nv\n",
              "Data variables:\n",
              "    lon_bounds   (longitude, nv) float32 dask.array&lt;chunksize=(360, 2), meta=np.ndarray&gt;\n",
              "    lat_bounds   (latitude, nv) float32 dask.array&lt;chunksize=(180, 2), meta=np.ndarray&gt;\n",
              "    time_bounds  (time, nv) object dask.array&lt;chunksize=(31, 2), meta=np.ndarray&gt;\n",
              "    precip       (time, latitude, longitude) float32 dask.array&lt;chunksize=(31, 180, 360), meta=np.ndarray&gt;\n",
              "Attributes:\n",
              "    Conventions:                CF-1.6, ACDD 1.3\n",
              "    title:                      Global Precipitation Climatatology Project (G...\n",
              "    source:                     /data1/GPCP_CDR/GPCP_Output/1DD//bin/199610/s...\n",
              "    references:                 Huffman et al. 1997, http://dx.doi.org/10.117...\n",
              "    history:                    1) 2017-05-30T16:52:42Z, Dr. Jian-Jian Wang, ...\n",
              "    Metadata_Conventions:       CF-1.6, Unidata Dataset Discovery v1.0, NOAA ...\n",
              "    standard_name_vocabulary:   CF Standard Name Table (v41, 22 February 2017)\n",
              "    id:                         199610/gpcp_v01r03_daily_d19961001_c20170530.nc\n",
              "    naming_authority:           gov.noaa.ncdc\n",
              "    date_created:               2017-05-30T16:52:42Z\n",
              "    license:                    No constraints on data access or use.\n",
              "    summary:                    Global Precipitation Climatology Project (GPC...\n",
              "    keywords:                   EARTH SCIENCE &gt; ATMOSPHERE &gt; PRECIPITATION &gt; ...\n",
              "    keywords_vocabulary:        NASA Global Change Master Directory (GCMD) Ea...\n",
              "    cdm_data_type:              Grid\n",
              "    project:                    GPCP &gt; Global Precipitation Climatology Project\n",
              "    processing_level:           NASA Level 3\n",
              "    creator_name:               Dr. Jian-Jian Wang\n",
              "    creator_email:              jjwang@umd.edu\n",
              "    institution:                ACADEMIC &gt; UMD/ESSIC &gt; Earth System Science I...\n",
              "    publisher_name:             NOAA National Centers for Environmental Infor...\n",
              "    publisher_email:            jjwang@umd.edu\n",
              "    publisher_url:              https://www.ncei.noaa.gov\n",
              "    geospatial_lat_min:         -90.0\n",
              "    geospatial_lat_max:         90.0\n",
              "    geospatial_lat_units:       degrees_north\n",
              "    geospatial_lat_resolution:  1 degree\n",
              "    geospatial_lon_min:         0.0\n",
              "    geospatial_lon_max:         360.0\n",
              "    geospatial_lon_units:       degrees_east\n",
              "    geospatial_lon_resolution:  1 degree\n",
              "    time_coverage_start:        1996-10-01T00:00:00Z\n",
              "    time_coverage_end:          1996-10-01T23:59:59Z\n",
              "    time_coverage_duration:     P1D\n",
              "    contributor_name:           Robert Adler, Jian-Jian Wang\n",
              "    contributor_role:           principalInvestigator, processor and custodian\n",
              "    acknowledgment:             This project was supported in part by a grant...\n",
              "    cdr_program:                NOAA Climate Data Record Program for satellit...\n",
              "    cdr_variable:               precipitation\n",
              "    metadata_link:              gov.noaa.ncdc:XXXXX\n",
              "    product_version:            v01r03\n",
              "    platform:                   GOES (Geostationary Operational Environmental...\n",
              "    sensor:                     Imager, TOVS &gt; TIROS Operational Vertical Sou...\n",
              "    spatial_resolution:         1 degree\n",
              "    comment:                    Processing computer: eagle2.umd.edu</pre>"
            ],
            "text/plain": [
              "<xarray.Dataset>\n",
              "Dimensions:      (latitude: 180, longitude: 360, nv: 2, time: 2075)\n",
              "Coordinates:\n",
              "  * longitude    (longitude) float32 0.0 1.0 2.0 3.0 ... 356.0 357.0 358.0 359.0\n",
              "  * latitude     (latitude) float32 -90.0 -89.0 -88.0 -87.0 ... 87.0 88.0 89.0\n",
              "  * time         (time) datetime64[ns] 1996-12-01 1996-12-02 ... 2019-02-28\n",
              "Dimensions without coordinates: nv\n",
              "Data variables:\n",
              "    lon_bounds   (longitude, nv) float32 dask.array<chunksize=(360, 2), meta=np.ndarray>\n",
              "    lat_bounds   (latitude, nv) float32 dask.array<chunksize=(180, 2), meta=np.ndarray>\n",
              "    time_bounds  (time, nv) object dask.array<chunksize=(31, 2), meta=np.ndarray>\n",
              "    precip       (time, latitude, longitude) float32 dask.array<chunksize=(31, 180, 360), meta=np.ndarray>\n",
              "Attributes:\n",
              "    Conventions:                CF-1.6, ACDD 1.3\n",
              "    title:                      Global Precipitation Climatatology Project (G...\n",
              "    source:                     /data1/GPCP_CDR/GPCP_Output/1DD//bin/199610/s...\n",
              "    references:                 Huffman et al. 1997, http://dx.doi.org/10.117...\n",
              "    history:                    1) 2017-05-30T16:52:42Z, Dr. Jian-Jian Wang, ...\n",
              "    Metadata_Conventions:       CF-1.6, Unidata Dataset Discovery v1.0, NOAA ...\n",
              "    standard_name_vocabulary:   CF Standard Name Table (v41, 22 February 2017)\n",
              "    id:                         199610/gpcp_v01r03_daily_d19961001_c20170530.nc\n",
              "    naming_authority:           gov.noaa.ncdc\n",
              "    date_created:               2017-05-30T16:52:42Z\n",
              "    license:                    No constraints on data access or use.\n",
              "    summary:                    Global Precipitation Climatology Project (GPC...\n",
              "    keywords:                   EARTH SCIENCE > ATMOSPHERE > PRECIPITATION > ...\n",
              "    keywords_vocabulary:        NASA Global Change Master Directory (GCMD) Ea...\n",
              "    cdm_data_type:              Grid\n",
              "    project:                    GPCP > Global Precipitation Climatology Project\n",
              "    processing_level:           NASA Level 3\n",
              "    creator_name:               Dr. Jian-Jian Wang\n",
              "    creator_email:              jjwang@umd.edu\n",
              "    institution:                ACADEMIC > UMD/ESSIC > Earth System Science I...\n",
              "    publisher_name:             NOAA National Centers for Environmental Infor...\n",
              "    publisher_email:            jjwang@umd.edu\n",
              "    publisher_url:              https://www.ncei.noaa.gov\n",
              "    geospatial_lat_min:         -90.0\n",
              "    geospatial_lat_max:         90.0\n",
              "    geospatial_lat_units:       degrees_north\n",
              "    geospatial_lat_resolution:  1 degree\n",
              "    geospatial_lon_min:         0.0\n",
              "    geospatial_lon_max:         360.0\n",
              "    geospatial_lon_units:       degrees_east\n",
              "    geospatial_lon_resolution:  1 degree\n",
              "    time_coverage_start:        1996-10-01T00:00:00Z\n",
              "    time_coverage_end:          1996-10-01T23:59:59Z\n",
              "    time_coverage_duration:     P1D\n",
              "    contributor_name:           Robert Adler, Jian-Jian Wang\n",
              "    contributor_role:           principalInvestigator, processor and custodian\n",
              "    acknowledgment:             This project was supported in part by a grant...\n",
              "    cdr_program:                NOAA Climate Data Record Program for satellit...\n",
              "    cdr_variable:               precipitation\n",
              "    metadata_link:              gov.noaa.ncdc:XXXXX\n",
              "    product_version:            v01r03\n",
              "    platform:                   GOES (Geostationary Operational Environmental...\n",
              "    sensor:                     Imager, TOVS > TIROS Operational Vertical Sou...\n",
              "    spatial_resolution:         1 degree\n",
              "    comment:                    Processing computer: eagle2.umd.edu"
            ]
          },
          "metadata": {
            "tags": []
          },
          "execution_count": 15
        }
      ]
    },
    {
      "cell_type": "code",
      "metadata": {
        "id": "4ZOm-pGU4map",
        "colab_type": "code",
        "colab": {}
      },
      "source": [
        "melbourne_precip=mdata_season['precip'].sel(longitude=145.,latitude=-38.+90., method='nearest')"
      ],
      "execution_count": 0,
      "outputs": []
    },
    {
      "cell_type": "code",
      "metadata": {
        "id": "4j8CMuS75QRO",
        "colab_type": "code",
        "colab": {
          "base_uri": "https://localhost:8080/",
          "height": 221
        },
        "outputId": "1d94e7f1-bb0f-4e37-e935-670c22357f81"
      },
      "source": [
        "melbourne_precip"
      ],
      "execution_count": 34,
      "outputs": [
        {
          "output_type": "execute_result",
          "data": {
            "text/html": [
              "<pre>&lt;xarray.DataArray &#x27;precip&#x27; (time: 2075)&gt;\n",
              "dask.array&lt;getitem, shape=(2075,), dtype=float32, chunksize=(91,), chunktype=numpy.ndarray&gt;\n",
              "Coordinates:\n",
              "    longitude  float32 145.0\n",
              "    latitude   float32 52.0\n",
              "  * time       (time) datetime64[ns] 1996-12-01 1996-12-02 ... 2019-02-28\n",
              "Attributes:\n",
              "    long_name:      NOAA Climate Data Record (CDR) of Daily GPCP Satellite-Ga...\n",
              "    standard_name:  lwe_precipitation_rate\n",
              "    units:          mm/day\n",
              "    valid_range:    [  0. 100.]\n",
              "    cell_methods:   area: mean time: mean</pre>"
            ],
            "text/plain": [
              "<xarray.DataArray 'precip' (time: 2075)>\n",
              "dask.array<getitem, shape=(2075,), dtype=float32, chunksize=(91,), chunktype=numpy.ndarray>\n",
              "Coordinates:\n",
              "    longitude  float32 145.0\n",
              "    latitude   float32 52.0\n",
              "  * time       (time) datetime64[ns] 1996-12-01 1996-12-02 ... 2019-02-28\n",
              "Attributes:\n",
              "    long_name:      NOAA Climate Data Record (CDR) of Daily GPCP Satellite-Ga...\n",
              "    standard_name:  lwe_precipitation_rate\n",
              "    units:          mm/day\n",
              "    valid_range:    [  0. 100.]\n",
              "    cell_methods:   area: mean time: mean"
            ]
          },
          "metadata": {
            "tags": []
          },
          "execution_count": 34
        }
      ]
    },
    {
      "cell_type": "code",
      "metadata": {
        "id": "DPH-AurT4_wi",
        "colab_type": "code",
        "colab": {}
      },
      "source": [
        "p=melbourne_precip.where(melbourne_precip > -999.0, drop=True).values\n"
      ],
      "execution_count": 0,
      "outputs": []
    },
    {
      "cell_type": "code",
      "metadata": {
        "id": "8-GhPpj17lZb",
        "colab_type": "code",
        "colab": {
          "base_uri": "https://localhost:8080/",
          "height": 265
        },
        "outputId": "fd50977e-a00d-4344-89b3-c944c0c04413"
      },
      "source": [
        "n = np.arange(1,len(p)+1) / np.float(len(p))\n",
        "Xs = np.sort(p)\n",
        "fig, ax = plt.subplots()\n",
        "ax.step(Xs,n) \n",
        "plt.axhline(0.95,c='b',ls='--',label='y=0.95')\n",
        "plt.axvline(np.quantile(p,0.95),c='r',ls='--',label='$95^{th}$ Percentile')\n",
        "plt.legend()\n",
        "plt.show()"
      ],
      "execution_count": 54,
      "outputs": [
        {
          "output_type": "display_data",
          "data": {
            "image/png": "[encoded data removed]",
            "text/plain": [
              "<Figure size 432x288 with 1 Axes>"
            ]
          },
          "metadata": {
            "tags": []
          }
        }
      ]
    },
    {
      "cell_type": "code",
      "metadata": {
        "id": "dcGIYYJl4s9f",
        "colab_type": "code",
        "colab": {}
      },
      "source": [
        "exceed_precip=melbourne_precip.where(melbourne_precip > np.quantile(p,0.95), drop=True)"
      ],
      "execution_count": 0,
      "outputs": []
    },
    {
      "cell_type": "code",
      "metadata": {
        "id": "lUn4r8Y_RdBJ",
        "colab_type": "code",
        "colab": {
          "base_uri": "https://localhost:8080/",
          "height": 221
        },
        "outputId": "e43149c7-f69e-4ff1-eac7-e760ebcc5cd7"
      },
      "source": [
        "exceed_precip.to_netcdf('melbourne_precip_95.nc')"
      ],
      "execution_count": 56,
      "outputs": [
        {
          "output_type": "execute_result",
          "data": {
            "text/html": [
              "<pre>&lt;xarray.DataArray &#x27;precip&#x27; (time: 104)&gt;\n",
              "dask.array&lt;where, shape=(104,), dtype=float32, chunksize=(10,), chunktype=numpy.ndarray&gt;\n",
              "Coordinates:\n",
              "    longitude  float32 145.0\n",
              "    latitude   float32 52.0\n",
              "  * time       (time) datetime64[ns] 1996-12-06 1996-12-07 ... 2018-12-08\n",
              "Attributes:\n",
              "    long_name:      NOAA Climate Data Record (CDR) of Daily GPCP Satellite-Ga...\n",
              "    standard_name:  lwe_precipitation_rate\n",
              "    units:          mm/day\n",
              "    valid_range:    [  0. 100.]\n",
              "    cell_methods:   area: mean time: mean</pre>"
            ],
            "text/plain": [
              "<xarray.DataArray 'precip' (time: 104)>\n",
              "dask.array<where, shape=(104,), dtype=float32, chunksize=(10,), chunktype=numpy.ndarray>\n",
              "Coordinates:\n",
              "    longitude  float32 145.0\n",
              "    latitude   float32 52.0\n",
              "  * time       (time) datetime64[ns] 1996-12-06 1996-12-07 ... 2018-12-08\n",
              "Attributes:\n",
              "    long_name:      NOAA Climate Data Record (CDR) of Daily GPCP Satellite-Ga...\n",
              "    standard_name:  lwe_precipitation_rate\n",
              "    units:          mm/day\n",
              "    valid_range:    [  0. 100.]\n",
              "    cell_methods:   area: mean time: mean"
            ]
          },
          "metadata": {
            "tags": []
          },
          "execution_count": 56
        }
      ]
    }
  ]
}